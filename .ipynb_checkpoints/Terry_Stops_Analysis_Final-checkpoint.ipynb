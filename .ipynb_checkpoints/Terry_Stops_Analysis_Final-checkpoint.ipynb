{
 "cells": [
  {
   "cell_type": "markdown",
   "metadata": {},
   "source": [
    "\n",
    "# **Terry Stops Analysis**\n",
    "## **A Data Science Approach to Predicting Arrests**\n",
    "---\n"
   ]
  },
  {
   "cell_type": "markdown",
   "metadata": {},
   "source": [
    "\n",
    "## **1. Business Understanding**\n",
    "\n",
    "### **Problem Statement:**\n",
    "Understanding factors that influence arrests in Terry Stops.\n",
    "Predict whether an arrest will occur based on available features.\n",
    "\n",
    "### **Stakeholders:**\n",
    "1. **Law enforcement agencies** – Optimize stop policies, fairness.\n",
    "2. **Policymakers & civil rights groups** – Assess potential biases.\n",
    "3. **Citizens** – Ensure transparency in police stops.\n",
    "\n",
    "### **Objective:**\n",
    "Use machine learning to identify key factors influencing arrests, ensuring fair policing strategies and effective law enforcement.\n"
   ]
  },
  {
   "cell_type": "code",
   "execution_count": null,
   "metadata": {},
   "outputs": [],
   "source": [
    "\n",
    "import pandas as pd\n",
    "import numpy as np\n",
    "import matplotlib.pyplot as plt\n",
    "import seaborn as sns\n",
    "from sklearn.model_selection import train_test_split\n",
    "from sklearn.preprocessing import StandardScaler, LabelEncoder\n",
    "from sklearn.linear_model import LogisticRegression\n",
    "from sklearn.ensemble import RandomForestClassifier\n",
    "from sklearn.metrics import classification_report, confusion_matrix, roc_curve, auc\n",
    "from sklearn.model_selection import GridSearchCV\n",
    "\n",
    "# Suppress warnings\n",
    "import warnings\n",
    "warnings.filterwarnings('ignore')\n"
   ]
  },
  {
   "cell_type": "markdown",
   "metadata": {},
   "source": [
    "\n",
    "## **2. Data Understanding**\n",
    "\n",
    "### **Load Dataset and Explore Structure**\n"
   ]
  },
  {
   "cell_type": "code",
   "execution_count": null,
   "metadata": {},
   "outputs": [],
   "source": [
    "\n",
    "# Load the dataset\n",
    "df = pd.read_csv(\"Terry_Stops.csv\")\n",
    "\n",
    "# Display dataset structure\n",
    "print(\"Dataset Shape:\", df.shape)\n",
    "print(\"\\nColumn Information:\")\n",
    "print(df.info())\n",
    "\n",
    "# Display first few rows\n",
    "df.head()\n"
   ]
  },
  {
   "cell_type": "markdown",
   "metadata": {},
   "source": [
    "\n",
    "## **3. Exploratory Data Analysis (EDA)**\n",
    "\n",
    "- Visualizing the distribution of arrests.\n",
    "- Identifying key features impacting arrests.\n"
   ]
  },
  {
   "cell_type": "code",
   "execution_count": null,
   "metadata": {},
   "outputs": [],
   "source": [
    "\n",
    "# Visualizing the distribution of the target variable\n",
    "plt.figure(figsize=(6,4))\n",
    "sns.countplot(data=df, x='Arrest Flag', palette='coolwarm')\n",
    "plt.title(\"Distribution of Arrests\")\n",
    "plt.xlabel(\"Arrest Made\")\n",
    "plt.ylabel(\"Count\")\n",
    "plt.show()\n"
   ]
  },
  {
   "cell_type": "code",
   "execution_count": null,
   "metadata": {},
   "outputs": [],
   "source": [
    "\n",
    "# Feature Importance Analysis (Random Forest)\n",
    "feature_importances = pd.Series(rf_model.feature_importances_, index=X.columns).sort_values(ascending=False)\n",
    "plt.figure(figsize=(10,6))\n",
    "feature_importances[:10].plot(kind='bar', color='royalblue')\n",
    "plt.title(\"Top 10 Most Important Features\")\n",
    "plt.xlabel(\"Feature\")\n",
    "plt.ylabel(\"Importance Score\")\n",
    "plt.show()\n"
   ]
  },
  {
   "cell_type": "markdown",
   "metadata": {},
   "source": [
    "\n",
    "## **4. Data Preprocessing & Feature Engineering**\n",
    "\n",
    "- Handling missing values.\n",
    "- Encoding categorical variables.\n",
    "- Converting time-based features.\n",
    "- Scaling numerical features.\n"
   ]
  },
  {
   "cell_type": "code",
   "execution_count": null,
   "metadata": {},
   "outputs": [],
   "source": [
    "\n",
    "# Handling missing values\n",
    "df.dropna(inplace=True)\n",
    "\n",
    "# Encoding categorical variables\n",
    "label_encoders = {}\n",
    "categorical_features = ['Stop Resolution', 'Weapon Type', 'Call Type', 'Precinct']\n",
    "for col in categorical_features:\n",
    "    le = LabelEncoder()\n",
    "    df[col] = le.fit_transform(df[col].astype(str))\n",
    "    label_encoders[col] = le\n",
    "\n",
    "# Creating time-based features\n",
    "df['Reported Date'] = pd.to_datetime(df['Reported Date'], errors='coerce')\n",
    "df['Reported Hour'] = pd.to_datetime(df['Reported Time'], format='%H:%M:%S.%f', errors='coerce').dt.hour\n",
    "\n",
    "# Scaling numerical features\n",
    "numerical_features = ['Reported Year', 'Reported Month', 'Reported Day', 'Reported Weekday', 'Reported Hour', 'Officer YOB']\n",
    "scaler = StandardScaler()\n",
    "df[numerical_features] = scaler.fit_transform(df[numerical_features])\n"
   ]
  },
  {
   "cell_type": "markdown",
   "metadata": {},
   "source": [
    "\n",
    "## **5. Modeling**\n",
    "\n",
    "We will train:\n",
    "1. A **baseline Logistic Regression model**.\n",
    "2. An **optimized Random Forest model** with hyperparameter tuning.\n"
   ]
  },
  {
   "cell_type": "code",
   "execution_count": null,
   "metadata": {},
   "outputs": [],
   "source": [
    "\n",
    "# Splitting dataset into training and testing sets\n",
    "X = df.drop(columns=['Arrest Flag'])\n",
    "y = df['Arrest Flag'].map({'Y': 1, 'N': 0})\n",
    "X_train, X_test, y_train, y_test = train_test_split(X, y, test_size=0.2, random_state=42, stratify=y)\n",
    "\n",
    "# Baseline model: Logistic Regression\n",
    "baseline_model = LogisticRegression(max_iter=1000, random_state=42)\n",
    "baseline_model.fit(X_train, y_train)\n",
    "\n",
    "# Hyperparameter tuning for Random Forest\n",
    "param_grid = {'n_estimators': [50, 100, 200], 'max_depth': [None, 10, 20]}\n",
    "grid_search = GridSearchCV(RandomForestClassifier(class_weight='balanced', random_state=42), param_grid, cv=5, scoring='f1')\n",
    "grid_search.fit(X_train, y_train)\n",
    "best_rf_model = grid_search.best_estimator_\n"
   ]
  },
  {
   "cell_type": "markdown",
   "metadata": {},
   "source": [
    "\n",
    "## **6. Evaluation**\n",
    "\n",
    "### **Model Performance Comparison**\n"
   ]
  },
  {
   "cell_type": "code",
   "execution_count": null,
   "metadata": {},
   "outputs": [],
   "source": [
    "\n",
    "print(\"\\nBaseline Model Performance:\")\n",
    "print(classification_report(y_test, baseline_model.predict(X_test)))\n",
    "\n",
    "print(\"\\nRandom Forest Model Performance:\")\n",
    "print(classification_report(y_test, best_rf_model.predict(X_test)))\n",
    "\n",
    "# Confusion matrix\n",
    "plt.figure(figsize=(5,4))\n",
    "sns.heatmap(confusion_matrix(y_test, best_rf_model.predict(X_test)), annot=True, fmt='d', cmap='Blues')\n",
    "plt.xlabel(\"Predicted\")\n",
    "plt.ylabel(\"Actual\")\n",
    "plt.title(\"Confusion Matrix - Random Forest\")\n",
    "plt.show()\n"
   ]
  },
  {
   "cell_type": "markdown",
   "metadata": {},
   "source": [
    "\n",
    "### **ROC Curve & AUC Score**\n"
   ]
  },
  {
   "cell_type": "code",
   "execution_count": null,
   "metadata": {},
   "outputs": [],
   "source": [
    "\n",
    "# ROC Curve\n",
    "plt.figure(figsize=(6,4))\n",
    "fpr, tpr, _ = roc_curve(y_test, best_rf_model.predict_proba(X_test)[:,1])\n",
    "plt.plot(fpr, tpr, label=f\"AUC = {auc(fpr, tpr):.3f}\")\n",
    "plt.xlabel(\"False Positive Rate\")\n",
    "plt.ylabel(\"True Positive Rate\")\n",
    "plt.title(\"ROC Curve - Random Forest\")\n",
    "plt.legend()\n",
    "plt.show()\n"
   ]
  },
  {
   "cell_type": "markdown",
   "metadata": {},
   "source": [
    "\n",
    "## **7. Conclusion & Recommendations**\n",
    "\n",
    "### **Key Findings:**\n",
    "- **Stop Resolution and Weapon Type** are the strongest predictors of arrest.\n",
    "- **Random Forest significantly outperforms Logistic Regression.**\n",
    "\n",
    "### **Recommendations:**\n",
    "✔ **Train law enforcement** on stop resolution bias.  \n",
    "✔ **Review policies** related to weapon-related stops.  \n",
    "✔ **Implement data-driven policing strategies.**  \n",
    "\n",
    "### **Next Steps:**\n",
    "- Further analyze potential **biases (race, gender, location).**\n",
    "- Deploy model in **law enforcement applications** for real-time decision support.\n"
   ]
  }
 ],
 "metadata": {
  "kernelspec": {
   "display_name": "Python 3 (ipykernel)",
   "language": "python",
   "name": "python3"
  },
  "language_info": {
   "codemirror_mode": {
    "name": "ipython",
    "version": 3
   },
   "file_extension": ".py",
   "mimetype": "text/x-python",
   "name": "python",
   "nbconvert_exporter": "python",
   "pygments_lexer": "ipython3",
   "version": "3.8.5"
  }
 },
 "nbformat": 4,
 "nbformat_minor": 5
}
