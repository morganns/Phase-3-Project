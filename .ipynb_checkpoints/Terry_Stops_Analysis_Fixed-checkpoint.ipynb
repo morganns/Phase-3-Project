{
 "cells": [
  {
   "cell_type": "markdown",
   "metadata": {},
   "source": [
    "## 1. Business Understanding\n",
    "\n",
    "### Problem Statement:\n",
    "Understanding factors that influence arrests in Terry Stops.\n",
    "Predict whether an arrest will occur based on available features.\n",
    "\n",
    "### Stakeholders:\n",
    "1. Law enforcement agencies (optimize stop policies, fairness)\n",
    "2. Policymakers & civil rights groups (assess potential biases)\n",
    "3. Citizens (transparency in police stops)\n",
    "\n",
    "### Objective:\n",
    "Use machine learning to identify key factors influencing arrests, ensuring fair policing strategies and effective law enforcement.\n"
   ]
  },
  {
   "cell_type": "markdown",
   "metadata": {},
   "source": [
    "## 2. Data Understanding\n",
    "\n",
    "### Load Dataset and Explore Structure\n",
    "```python\n",
    "import pandas as pd\n",
    "import numpy as np\n",
    "import matplotlib.pyplot as plt\n",
    "import seaborn as sns\n",
    "\n",
    "# Load the dataset\n",
    "df = pd.read_csv(\"Terry_Stops.csv\")\n",
    "\n",
    "# Display dataset structure\n",
    "print(\"Dataset Shape:\", df.shape)\n",
    "print(\"\\nColumn Information:\")\n",
    "print(df.info())\n",
    "\n",
    "# Display first few rows\n",
    "df.head()\n",
    "```\n"
   ]
  },
  {
   "cell_type": "markdown",
   "metadata": {},
   "source": [
    "## 3. Exploratory Data Analysis (EDA)\n",
    "\n",
    "### Target Variable Distribution\n",
    "```python\n",
    "plt.figure(figsize=(6,4))\n",
    "sns.countplot(data=df, x='Arrest Flag', palette='coolwarm')\n",
    "plt.title(\"Distribution of Arrests\")\n",
    "plt.xlabel(\"Arrest Made\")\n",
    "plt.ylabel(\"Count\")\n",
    "plt.show()\n",
    "```\n",
    "\n",
    "### Visualizing Categorical Features\n",
    "```python\n",
    "categorical_features = ['Stop Resolution', 'Weapon Type', 'Call Type', 'Precinct']\n",
    "for col in categorical_features:\n",
    "    plt.figure(figsize=(8,4))\n",
    "    sns.countplot(data=df, x=col, hue='Arrest Flag', palette='coolwarm')\n",
    "    plt.title(f\"Arrest Distribution by {col}\")\n",
    "    plt.xticks(rotation=45)\n",
    "    plt.show()\n",
    "```\n",
    "\n",
    "### Visualizing Numerical Features\n",
    "```python\n",
    "numerical_features = ['Reported Year', 'Reported Month', 'Reported Day', 'Reported Weekday', 'Reported Hour', 'Officer YOB']\n",
    "df[numerical_features].hist(figsize=(12,8), bins=20, edgecolor='black')\n",
    "plt.suptitle(\"Distribution of Numerical Features\")\n",
    "plt.show()\n",
    "```\n"
   ]
  },
  {
   "cell_type": "markdown",
   "metadata": {},
   "source": [
    "## 4. Data Preprocessing & Feature Engineering\n",
    "\n",
    "### Handling Missing Values & Encoding\n",
    "```python\n",
    "from sklearn.preprocessing import LabelEncoder\n",
    "\n",
    "# Drop missing values\n",
    "df.dropna(inplace=True)\n",
    "\n",
    "# Encoding categorical variables\n",
    "label_encoders = {}\n",
    "for col in ['Stop Resolution', 'Weapon Type', 'Call Type', 'Precinct']:\n",
    "    le = LabelEncoder()\n",
    "    df[col] = le.fit_transform(df[col].astype(str))\n",
    "    label_encoders[col] = le\n",
    "```\n"
   ]
  },
  {
   "cell_type": "markdown",
   "metadata": {},
   "source": [
    "## 5. Modeling\n",
    "\n",
    "### Train-Test Split & Model Training\n",
    "```python\n",
    "from sklearn.model_selection import train_test_split\n",
    "from sklearn.preprocessing import StandardScaler\n",
    "from sklearn.linear_model import LogisticRegression\n",
    "from sklearn.ensemble import RandomForestClassifier\n",
    "\n",
    "# Split data\n",
    "X = df.drop(columns=['Arrest Flag'])\n",
    "y = df['Arrest Flag'].map({'Y': 1, 'N': 0})\n",
    "X_train, X_test, y_train, y_test = train_test_split(X, y, test_size=0.2, random_state=42, stratify=y)\n",
    "\n",
    "# Scale numerical features\n",
    "scaler = StandardScaler()\n",
    "X_train = scaler.fit_transform(X_train)\n",
    "X_test = scaler.transform(X_test)\n",
    "\n",
    "# Train models\n",
    "baseline_model = LogisticRegression(max_iter=1000, random_state=42)\n",
    "baseline_model.fit(X_train, y_train)\n",
    "\n",
    "rf_model = RandomForestClassifier(n_estimators=100, random_state=42, class_weight='balanced')\n",
    "rf_model.fit(X_train, y_train)\n",
    "```\n"
   ]
  },
  {
   "cell_type": "markdown",
   "metadata": {},
   "source": [
    "## 6. Evaluation\n",
    "\n",
    "### Model Performance\n",
    "```python\n",
    "from sklearn.metrics import classification_report, confusion_matrix\n",
    "\n",
    "print(\"\\nBaseline Model Performance:\")\n",
    "print(classification_report(y_test, baseline_model.predict(X_test)))\n",
    "\n",
    "print(\"\\nRandom Forest Model Performance:\")\n",
    "print(classification_report(y_test, rf_model.predict(X_test)))\n",
    "\n",
    "# Confusion Matrix\n",
    "plt.figure(figsize=(5,4))\n",
    "sns.heatmap(confusion_matrix(y_test, rf_model.predict(X_test)), annot=True, fmt='d', cmap='Blues')\n",
    "plt.xlabel(\"Predicted\")\n",
    "plt.ylabel(\"Actual\")\n",
    "plt.title(\"Confusion Matrix - Random Forest\")\n",
    "plt.show()\n",
    "```\n"
   ]
  },
  {
   "cell_type": "markdown",
   "metadata": {},
   "source": [
    "## 7. Conclusion & Recommendations\n",
    "\n",
    "### Key Findings:\n",
    "- Stop Resolution and Weapon Type are the strongest predictors of arrest.\n",
    "- Random Forest significantly outperforms Logistic Regression.\n",
    "\n",
    "### Recommendations:\n",
    "- Train law enforcement on stop resolution bias.\n",
    "- Review policies related to weapon-related stops.\n",
    "- Implement data-driven policing strategies.\n",
    "\n",
    "### Next Steps:\n",
    "- Further analyze potential biases (race, gender, location).\n",
    "- Deploy model in law enforcement applications for real-time decision support.\n"
   ]
  }
 ],
 "metadata": {
  "kernelspec": {
   "display_name": "Python 3 (ipykernel)",
   "language": "python",
   "name": "python3"
  },
  "language_info": {
   "codemirror_mode": {
    "name": "ipython",
    "version": 3
   },
   "file_extension": ".py",
   "mimetype": "text/x-python",
   "name": "python",
   "nbconvert_exporter": "python",
   "pygments_lexer": "ipython3",
   "version": "3.8.5"
  }
 },
 "nbformat": 4,
 "nbformat_minor": 5
}
