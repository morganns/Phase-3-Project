{
 "cells": [
  {
   "cell_type": "markdown",
   "metadata": {},
   "source": [
    "# **Terry Stops Analysis**\n",
    "## **A Data Science Approach to Predicting Arrests**\n",
    "---"
   ]
  },
  {
   "cell_type": "markdown",
   "metadata": {},
   "source": [
    "## **1. Business Understanding**\n",
    "\n",
    "### **Problem Statement:**\n",
    "Understanding factors that influence arrests in Terry Stops.\n",
    "Predict whether an arrest will occur based on available features.\n",
    "\n",
    "### **Stakeholders:**\n",
    "1. **Law enforcement agencies** – Optimize stop policies, fairness.\n",
    "2. **Policymakers & civil rights groups** – Assess potential biases.\n",
    "3. **Citizens** – Ensure transparency in police stops.\n",
    "\n",
    "### **Objective:**\n",
    "Use machine learning to identify key factors influencing arrests, ensuring fair policing strategies and effective law enforcement."
   ]
  },
  {
   "cell_type": "code",
   "execution_count": 1,
   "metadata": {},
   "outputs": [],
   "source": [
    "import pandas as pd\n",
    "import numpy as np\n",
    "import matplotlib.pyplot as plt\n",
    "import seaborn as sns\n",
    "from sklearn.model_selection import train_test_split, cross_val_score\n",
    "from sklearn.preprocessing import StandardScaler, LabelEncoder\n",
    "from sklearn.linear_model import LogisticRegression\n",
    "from sklearn.ensemble import RandomForestClassifier, GradientBoostingClassifier\n",
    "from sklearn.svm import SVC\n",
    "from sklearn.metrics import classification_report, confusion_matrix, roc_curve, auc\n",
    "from sklearn.model_selection import GridSearchCV\n",
    "from imblearn.over_sampling import SMOTE\n",
    "from sklearn.pipeline import Pipeline\n",
    "\n",
    "# Suppress warnings\n",
    "import warnings\n",
    "warnings.filterwarnings('ignore')"
   ]
  },
  {
   "cell_type": "markdown",
   "metadata": {},
   "source": [
    "## **5. Modeling**\n",
    "Now, we build and compare predictive models to determine the most effective approach."
   ]
  },
  {
   "cell_type": "code",
   "execution_count": null,
   "metadata": {},
   "outputs": [],
   "source": [
    "# Handling Class Imbalance using SMOTE\n",
    "smote = SMOTE(random_state=42)\n",
    "X_resampled, y_resampled = smote.fit_resample(X, y)\n",
    "\n",
    "# Splitting the resampled dataset into training and testing sets\n",
    "X_train, X_test, y_train, y_test = train_test_split(X_resampled, y_resampled, test_size=0.2, random_state=42, stratify=y_resampled)\n",
    "\n",
    "# Creating Pipelines for models\n",
    "logistic_pipeline = Pipeline([('scaler', StandardScaler()), ('classifier', LogisticRegression(C=1.0, max_iter=1000, random_state=42))])\n",
    "\n",
    "param_grid_rf = {'classifier__n_estimators': [50, 100, 200], 'classifier__max_depth': [None, 10, 20]}\n",
    "rf_pipeline = Pipeline([('classifier', RandomForestClassifier(class_weight='balanced', random_state=42))])\n",
    "rf_grid_search = GridSearchCV(rf_pipeline, param_grid_rf, cv=5, scoring='f1')\n",
    "\n",
    "# Training Additional Models\n",
    "gb_model = GradientBoostingClassifier(n_estimators=100, learning_rate=0.1, max_depth=3, random_state=42)\n",
    "svm_model = SVC(kernel='rbf', probability=True, random_state=42)\n",
    "\n",
    "# Train and evaluate models\n",
    "models = {'Logistic Regression': logistic_pipeline, 'Random Forest': rf_grid_search, 'Gradient Boosting': gb_model, 'Support Vector Machine': svm_model}\n",
    "\n",
    "for name, model in models.items():\n",
    "    print(f\"Training {name}...\")\n",
    "    model.fit(X_train, y_train)\n",
    "    y_pred = model.predict(X_test)\n",
    "    print(f\"\\n{name} Performance:\")\n",
    "    print(classification_report(y_test, y_pred))"
   ]
  },
  {
   "cell_type": "markdown",
   "metadata": {},
   "source": [
    "## **6. Evaluation**\n",
    "Model evaluation is crucial to determine how well our trained models perform on unseen data."
   ]
  },
  {
   "cell_type": "code",
   "execution_count": null,
   "metadata": {},
   "outputs": [],
   "source": [
    "# Confusion Matrix for Best Model (Random Forest)\n",
    "best_rf_model = rf_grid_search.best_estimator_\n",
    "plt.figure(figsize=(5,4))\n",
    "sns.heatmap(confusion_matrix(y_test, best_rf_model.predict(X_test)), annot=True, fmt='d', cmap='Blues')\n",
    "plt.xlabel(\"Predicted\")\n",
    "plt.ylabel(\"Actual\")\n",
    "plt.title(\"Confusion Matrix - Best Model (Random Forest)\")\n",
    "plt.show()\n",
    "\n",
    "# ROC Curve Comparison\n",
    "plt.figure(figsize=(6,4))\n",
    "for name, model in models.items():\n",
    "    if hasattr(model, \"predict_proba\"):\n",
    "        fpr, tpr, _ = roc_curve(y_test, model.predict_proba(X_test)[:,1])\n",
    "        plt.plot(fpr, tpr, label=f\"{name} (AUC = {auc(fpr, tpr):.3f})\")\n",
    "plt.xlabel(\"False Positive Rate\")\n",
    "plt.ylabel(\"True Positive Rate\")\n",
    "plt.title(\"ROC Curve Comparison\")\n",
    "plt.legend()\n",
    "plt.show()"
   ]
  },
  {
   "cell_type": "markdown",
   "metadata": {},
   "source": [
    "## **7. Conclusion & Recommendations**\n",
    "### **Key Takeaways:**\n",
    "- **Random Forest emerged as the best-performing model**, achieving high precision and recall, making it suitable for law enforcement applications."
   ]
  },
  {
   "cell_type": "markdown",
   "metadata": {},
   "source": [
    "### **Recommendations:**\n",
    "1. **Enhance Data Collection:**\n",
    "   - Gather more relevant features such as **officer experience, time in service, and previous stop records**.\n",
    "   - Consider integrating **external socioeconomic data** to improve predictions.\n",
    "\n",
    "2. **Address Potential Biases:**\n",
    "   - Investigate potential **racial, gender, or location-based biases** in the predictions.\n",
    "   - Train law enforcement officers using **data-driven insights** to reduce biased arrest decisions.\n",
    "\n",
    "3. **Deploy Model for Real-World Applications:**\n",
    "   - Implement a **real-time prediction system** to assist law enforcement in making **informed stop decisions**.\n",
    "   - Use the model to **audit historical arrest data** for fairness and accountability."
   ]
  }
 ],
 "metadata": {
  "kernelspec": {
   "display_name": "Python 3 (ipykernel)",
   "language": "python",
   "name": "python3"
  },
  "language_info": {
   "codemirror_mode": {
    "name": "ipython",
    "version": 3
   },
   "file_extension": ".py",
   "mimetype": "text/x-python",
   "name": "python",
   "nbconvert_exporter": "python",
   "pygments_lexer": "ipython3",
   "version": "3.8.5"
  }
 },
 "nbformat": 4,
 "nbformat_minor": 5
}
